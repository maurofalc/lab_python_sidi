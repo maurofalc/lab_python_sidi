{
  "cells": [
    {
      "cell_type": "markdown",
      "metadata": {
        "id": "HHAZ1Yb8s79_"
      },
      "source": [
        "# Resoluções dos laboratórios de Python\n",
        "\n",
        "## Laboratório 1\n",
        "**1) Crie um programa que receba seu nome, idade, telefone, salário e endereço e imprima uma saída desejada.**\n",
        "\n",
        "**Saída:** Eu sou {NOME}, eu tenho {IDADE}, você pode me contatar no número {TELEFONE} ou me visitar no endereço {ENDERECO}. Meu salário atual circula em torno de {SALARIO}.\n",
        "\n"
      ]
    },
    {
      "cell_type": "code",
      "execution_count": null,
      "metadata": {
        "colab": {
          "base_uri": "https://localhost:8080/"
        },
        "id": "hpE1FIyetBul",
        "outputId": "a09dd220-2e35-4055-9f26-ad42ea7b49b1"
      },
      "outputs": [],
      "source": [
        "nome = input(\"Insira seu nome: \")\n",
        "idade = input(\"Insira sua idade: \")\n",
        "tel = input(\"Insira seu telefone: \")\n",
        "end = input(\"Insira seu endereço: \")\n",
        "sal = input(\"Insira seu salário: \")\n",
        "\n",
        "print(f\"Eu sou {nome}, eu tenho {idade}, você pode me contatar no número {tel} ou me visitar no endereço {end}. Meu salário atual circula em torno de {sal}.\")"
      ]
    },
    {
      "cell_type": "markdown",
      "metadata": {
        "id": "U1wFQOYgtZc-"
      },
      "source": [
        "## Laboratório 2\n",
        "**1) Crie um programa que receberá nome, idade, salário e brasileiro. o nome é uma variável String, a idade é uma variável inteira, o salário é uma variável float e brasileiro é uma variável boleana.**"
      ]
    },
    {
      "cell_type": "code",
      "execution_count": null,
      "metadata": {
        "colab": {
          "base_uri": "https://localhost:8080/"
        },
        "id": "arltXK3mu_fl",
        "outputId": "5d728fe4-31f1-488a-e926-95aed4a6917b"
      },
      "outputs": [],
      "source": [
        "nome = input(\"Insira seu nome: \")\n",
        "idade = int(input(\"Insira sua idade: \"))\n",
        "sal = float(input(\"Insira seu salário: \"))\n",
        "br = bool(input(\"É brasileiro/a: \"))"
      ]
    },
    {
      "cell_type": "markdown",
      "metadata": {
        "id": "HTeoAWeKL_gL"
      },
      "source": [
        "**2) Converta o a variável idade para float e a variável brasileiro para string.**"
      ]
    },
    {
      "cell_type": "code",
      "execution_count": null,
      "metadata": {
        "id": "rhssfd1aMCGF"
      },
      "outputs": [],
      "source": [
        "idade = float(idade)\n",
        "br = str(br)"
      ]
    },
    {
      "cell_type": "markdown",
      "metadata": {
        "id": "XRXQhtohMCZT"
      },
      "source": [
        "**3) Verifique o tipo de cada variável e imprima os valores e seus tipos conforme a saída abaixo:**\n",
        "\n",
        "**Saída:** \n",
        "- 'a variável idade é do tipo: {TIPO_DA_VARIAVEL}'\n",
        "- 'a variável brasileiro é do tipo: {TIPO_DA_VARIAVEL}'\n",
        "- 'a variável nome é do tipo: {TIPO_DA_VARIAVEL}'"
      ]
    },
    {
      "cell_type": "code",
      "execution_count": null,
      "metadata": {
        "id": "ivznMBdgMFDj"
      },
      "outputs": [],
      "source": [
        "print(f\"A variável nome é do tipo {type(nome)}\")\n",
        "print(f\"A variável idade é do tipo {type(idade)}\")\n",
        "print(f\"A variável salário é do tipo {type(sal)}\")\n",
        "print(f\"A variável brasileiro é do tipo {type(br)}\")"
      ]
    },
    {
      "cell_type": "markdown",
      "metadata": {
        "id": "elZ4uS60wYAs"
      },
      "source": [
        "## Laboratório 3"
      ]
    },
    {
      "cell_type": "markdown",
      "metadata": {
        "id": "g7zf8FUcxtZs"
      },
      "source": [
        "**1) Quanto é 7 elevado na potência 4?**"
      ]
    },
    {
      "cell_type": "code",
      "execution_count": null,
      "metadata": {
        "colab": {
          "base_uri": "https://localhost:8080/"
        },
        "id": "DYc6okWfxpsd",
        "outputId": "daf8a646-31df-4fd0-af56-6012f09d443e"
      },
      "outputs": [],
      "source": [
        "print(7**4)"
      ]
    },
    {
      "cell_type": "markdown",
      "metadata": {
        "id": "m5MrL7Lex1oU"
      },
      "source": [
        "**2) Qual o resultado da seguinte expressão: (5 + 8) ** 2 * 10 / 2 + 11 - 1**\n",
        "\n",
        "Descreva a ordem que ocorre as operações!"
      ]
    },
    {
      "cell_type": "code",
      "execution_count": null,
      "metadata": {
        "colab": {
          "base_uri": "https://localhost:8080/"
        },
        "id": "fvd_YBpsyDWF",
        "outputId": "a3204d2b-8ef7-43c9-9910-2429b2504d6b"
      },
      "outputs": [],
      "source": [
        "print((5 + 8) ** 2 * 10 / 2 + 11 - 1)\n",
        "print(f\"(5 + 8) = {(5 + 8)}\")\n",
        "print(f\"{(5 + 8)} ** 2 = {(5 + 8) ** 2}\")\n",
        "print(f\"{(5 + 8) ** 2} * 10 = {(5 + 8) ** 2 * 10}\")\n",
        "print(f\"{(5 + 8) ** 2 * 10}/2 = {(5 + 8) ** 2 * 10/2}\")\n",
        "print(f\"{(5 + 8) ** 2 * 10/2} + 11 = {(5 + 8) ** 2 * 10/2 + 11}\")\n",
        "print(f\"{(5 + 8) ** 2 * 10/2 + 11} - 1 = {(5 + 8) ** 2 * 10/2 + 11 - 1}\")"
      ]
    },
    {
      "cell_type": "markdown",
      "metadata": {
        "id": "5eBgms25y-de"
      },
      "source": [
        "\n",
        "**3) Explique o resultado da seguinte expressão: 5 + 8 ** 2 * 10 / 2 + 11 - 1**\n",
        "\n",
        "Descreva a ordem que ocorre as operações!"
      ]
    },
    {
      "cell_type": "code",
      "execution_count": null,
      "metadata": {
        "colab": {
          "base_uri": "https://localhost:8080/"
        },
        "id": "pzxp_2i_zBm8",
        "outputId": "12e90e53-f11f-4d02-9c2a-e4ff18128b4e"
      },
      "outputs": [],
      "source": [
        "print(5 + 8 ** 2 * 10 / 2 + 11 - 1)\n",
        "print(f\"8 ** 2 = {8 ** 2}\")\n",
        "print(f\"{8 ** 2} * 10 = {8 ** 2 * 10}\")\n",
        "print(f\"{8 ** 2 * 10}/2 = {8 ** 2 * 10/2}\")\n",
        "print(f\"5 + {8 ** 2 * 10/2} = {5 + 8 ** 2 * 10/2}\")\n",
        "print(f\"{5 + 8 ** 2 * 10/2} + 11 = {5 + 8 ** 2 * 10/2 + 11}\")\n",
        "print(f\"{5 + 8 ** 2 * 10/2 + 11} - 1 = {5 + 8 ** 2 * 10/2 + 11 - 1}\")"
      ]
    },
    {
      "cell_type": "markdown",
      "metadata": {
        "id": "ekMmbAjI_png"
      },
      "source": [
        "## Laboratório 4"
      ]
    },
    {
      "cell_type": "markdown",
      "metadata": {
        "id": "AnO9QZaM_tu-"
      },
      "source": [
        "**1) Crie uma lista \"familia\" com o nome dos membros da sua família (pais, filhos, avôs e irmãos)**"
      ]
    },
    {
      "cell_type": "code",
      "execution_count": null,
      "metadata": {
        "id": "pKJIaY03_071"
      },
      "outputs": [],
      "source": [
        "familia = ['Mauro', 'Marta', 'Manuelle', 'Mônica', 'Mauro Filho', 'Izaura']"
      ]
    },
    {
      "cell_type": "markdown",
      "metadata": {
        "id": "WhNedhiB_1k2"
      },
      "source": [
        "**2) Adicione nesta lista os nomes dos seus animais de estimação que você já teve ou tem**"
      ]
    },
    {
      "cell_type": "code",
      "execution_count": null,
      "metadata": {
        "id": "K7oZRwX3_4S1"
      },
      "outputs": [],
      "source": [
        "familia.append('Nenê')\n",
        "familia.append('Juju')"
      ]
    },
    {
      "cell_type": "markdown",
      "metadata": {
        "id": "MPnQ9aOj_4oP"
      },
      "source": [
        "**3) Remova os animais de estimação que você não tem mais**"
      ]
    },
    {
      "cell_type": "code",
      "execution_count": null,
      "metadata": {
        "id": "wy9jy3KX_6hU"
      },
      "outputs": [],
      "source": [
        "familia.remove('Juju')"
      ]
    },
    {
      "cell_type": "markdown",
      "metadata": {
        "id": "o0zPfayG_7Ds"
      },
      "source": [
        "**4) Crie uma nova lista com nome Amigos e adicione seus principais amigos nesta lista**"
      ]
    },
    {
      "cell_type": "code",
      "execution_count": null,
      "metadata": {
        "id": "dwi9TNgiANtR"
      },
      "outputs": [],
      "source": [
        "amigos = ['Raquel', 'Thales', 'Abner', 'Beth', 'Luan', 'Carmélia']"
      ]
    },
    {
      "cell_type": "markdown",
      "metadata": {
        "id": "x9_HBWWhAN-m"
      },
      "source": [
        "**5) Concatene as listas Familia e Amigos em uma nova lista chamada Networking**"
      ]
    },
    {
      "cell_type": "code",
      "execution_count": null,
      "metadata": {
        "id": "4WUIaNgBAPs6"
      },
      "outputs": [],
      "source": [
        "networking = familia + amigos"
      ]
    },
    {
      "cell_type": "markdown",
      "metadata": {
        "id": "6FX-XjHUARGG"
      },
      "source": [
        "**6) Delete as listas Familia e Amigos**"
      ]
    },
    {
      "cell_type": "code",
      "execution_count": null,
      "metadata": {
        "id": "xxM4TlGzAaKX"
      },
      "outputs": [],
      "source": [
        "del familia\n",
        "del amigos"
      ]
    },
    {
      "cell_type": "markdown",
      "metadata": {
        "id": "31nsXDLeAaaV"
      },
      "source": [
        "**7) Ordene a lista Networking por ordem alfabetica a-z**"
      ]
    },
    {
      "cell_type": "code",
      "execution_count": null,
      "metadata": {
        "id": "4Hny2jT8A9GM"
      },
      "outputs": [],
      "source": [
        "networking.sort()"
      ]
    },
    {
      "cell_type": "markdown",
      "metadata": {
        "id": "h65NOyC0A9bk"
      },
      "source": [
        "**8) Verifique o tamanho da lista networking**"
      ]
    },
    {
      "cell_type": "code",
      "execution_count": null,
      "metadata": {
        "colab": {
          "base_uri": "https://localhost:8080/"
        },
        "id": "oBPkkcFpA_4q",
        "outputId": "b7792d4a-78a4-48e9-ac1a-f08a49fd857c"
      },
      "outputs": [],
      "source": [
        "print(len(networking))"
      ]
    },
    {
      "cell_type": "markdown",
      "metadata": {
        "id": "TbfJgqmGBAIV"
      },
      "source": [
        "**9) Converta todos os itens da lista para string usando o separador '|'**"
      ]
    },
    {
      "cell_type": "code",
      "execution_count": null,
      "metadata": {
        "colab": {
          "base_uri": "https://localhost:8080/"
        },
        "id": "28Exs0KFBCH9",
        "outputId": "486d4c58-0929-49c0-8191-f1627271f636"
      },
      "outputs": [],
      "source": [
        "print('|'.join(networking))"
      ]
    },
    {
      "cell_type": "markdown",
      "metadata": {
        "id": "PyBRlV5WB4DH"
      },
      "source": [
        "## Laboratório 5"
      ]
    },
    {
      "cell_type": "markdown",
      "metadata": {
        "id": "JsMptagrB6XN"
      },
      "source": [
        "**1) Crie um dicionário com seu nome, telefone e email. Mostre agora somente as chaves desse dicionário!**"
      ]
    },
    {
      "cell_type": "code",
      "execution_count": null,
      "metadata": {
        "colab": {
          "base_uri": "https://localhost:8080/"
        },
        "id": "SjlTu1N2B9xu",
        "outputId": "b6f45af8-3e67-4bbe-8d9f-2f9225dcfc35"
      },
      "outputs": [],
      "source": [
        "dic = {'nome': 'Mauro', 'tel': '8836113074', 'email': 'fmfmf@cin.ufpe.br'}\n",
        "print(dic.keys())"
      ]
    },
    {
      "cell_type": "markdown",
      "metadata": {
        "id": "FWi_fhjdB-IN"
      },
      "source": [
        "**2) Adicione o seu trabalho neste dicionário**"
      ]
    },
    {
      "cell_type": "code",
      "execution_count": null,
      "metadata": {
        "id": "RXlzyjUVCABC"
      },
      "outputs": [],
      "source": [
        "dic['trabalho'] = 'estudante'"
      ]
    },
    {
      "cell_type": "markdown",
      "metadata": {
        "id": "EtbYnkxYCARN"
      },
      "source": [
        "**3) Remova o dado de telefone do seu dicionário**"
      ]
    },
    {
      "cell_type": "code",
      "execution_count": null,
      "metadata": {
        "id": "UnaZwDjkCChR"
      },
      "outputs": [],
      "source": [
        "del dic['tel']"
      ]
    },
    {
      "cell_type": "markdown",
      "metadata": {
        "id": "e8nBjVPdCC38"
      },
      "source": [
        "**4) Crie um lista com 5 nomes e uma lista com 5 telefones. Crie um dicionário a partir delas**"
      ]
    },
    {
      "cell_type": "code",
      "execution_count": null,
      "metadata": {
        "colab": {
          "base_uri": "https://localhost:8080/"
        },
        "id": "RvqBIPHlCEad",
        "outputId": "b88a9761-7c6b-4060-dc81-716f3d207bdd"
      },
      "outputs": [],
      "source": [
        "nomes = ['Mateus', 'Luiz', 'Marcos', 'Lucas', 'Tiago']\n",
        "tel = ['911111111', '922222222', '933333333', '944444444', '955555555']\n",
        "dic = dict(zip(nomes, tel))\n",
        "print(dic)"
      ]
    },
    {
      "cell_type": "markdown",
      "metadata": {
        "id": "V2sy7FEBCEum"
      },
      "source": [
        "## Laboratório 6"
      ]
    },
    {
      "cell_type": "markdown",
      "metadata": {
        "id": "u8x_lxuoCH2h"
      },
      "source": [
        "**1) Crie uma tupla três diferentes nomes**"
      ]
    },
    {
      "cell_type": "code",
      "execution_count": null,
      "metadata": {
        "id": "NWBN8pXHCLZ3"
      },
      "outputs": [],
      "source": [
        "nomes = ('Francisco', 'Mauro', 'Falcão')"
      ]
    },
    {
      "cell_type": "markdown",
      "metadata": {
        "id": "gaGrnuHeCMoR"
      },
      "source": [
        "**2) Modifique o valor o último elemento dessa tupla para zero**"
      ]
    },
    {
      "cell_type": "code",
      "execution_count": null,
      "metadata": {
        "colab": {
          "base_uri": "https://localhost:8080/",
          "height": 162
        },
        "id": "YMQkF1ZTCOOh",
        "outputId": "fd864cf5-45e2-4561-f204-1963355ea869"
      },
      "outputs": [],
      "source": [
        "nomes[2] = 0"
      ]
    },
    {
      "cell_type": "markdown",
      "metadata": {
        "id": "MecAaaUwCOfe"
      },
      "source": [
        "## Laboratório 7"
      ]
    },
    {
      "cell_type": "markdown",
      "metadata": {
        "id": "mz8wmXhBCRiV"
      },
      "source": [
        "**1) Crie um conjunto dos números inteiros até o número 10**"
      ]
    },
    {
      "cell_type": "code",
      "execution_count": null,
      "metadata": {
        "id": "ITzPoayEDOWf"
      },
      "outputs": [],
      "source": [
        "ints = set({1,2,3,4,5,6,7,8,9,10})"
      ]
    },
    {
      "cell_type": "markdown",
      "metadata": {
        "id": "MaasL1U9DOnl"
      },
      "source": [
        "**2) Crie um novo conjunto para os números inteiros pares até o número 10 (2, 4, 6, 8, 10)**"
      ]
    },
    {
      "cell_type": "code",
      "execution_count": null,
      "metadata": {
        "id": "hrCzYXaHDdNi"
      },
      "outputs": [],
      "source": [
        "pares = set({2,4,6,8,10})"
      ]
    },
    {
      "cell_type": "markdown",
      "metadata": {
        "id": "eiVHC_nHDdnX"
      },
      "source": [
        "**3) Mostre o resultado da intersseessão, união e diferença entre os dois conjuntos**"
      ]
    },
    {
      "cell_type": "code",
      "execution_count": null,
      "metadata": {
        "id": "C23NlUb7DgbS"
      },
      "outputs": [],
      "source": [
        "print(ints.intersection(pares))\n",
        "print(ints.difference(pares))\n",
        "print(ints.union(pares))"
      ]
    },
    {
      "cell_type": "markdown",
      "metadata": {
        "id": "RT9QhzEXDgvH"
      },
      "source": [
        "## Laboratório 8"
      ]
    },
    {
      "cell_type": "markdown",
      "metadata": {
        "id": "tRRk63mNDiye"
      },
      "source": [
        "**1) Crie diferentes expressões de verificação usando cada um dos operadores apresentados.**"
      ]
    },
    {
      "cell_type": "code",
      "execution_count": null,
      "metadata": {
        "colab": {
          "base_uri": "https://localhost:8080/"
        },
        "id": "MUEHBU4xDqtJ",
        "outputId": "a824cd66-aacb-4597-8bfe-4aaebe1d74c4"
      },
      "outputs": [],
      "source": [
        "print(1 > 0)\n",
        "print(4 < 2)\n",
        "print(2 >= 1)\n",
        "print(3 <= 1)\n",
        "print(0 == 0)\n",
        "print(1 != 1)\n",
        "print(2 in (0,2,4,6,8))\n",
        "print(2 not in (0,2,4,6,8))"
      ]
    },
    {
      "cell_type": "markdown",
      "metadata": {
        "id": "atg5t6bwDrDm"
      },
      "source": [
        "**2) Verifique se os números 1 e 2 fazem parte do conjunto pares (0,2,4,6,8,10)**"
      ]
    },
    {
      "cell_type": "code",
      "execution_count": null,
      "metadata": {
        "colab": {
          "base_uri": "https://localhost:8080/"
        },
        "id": "8X5Me0RFDs2P",
        "outputId": "dc558ea5-89d0-4d46-a20c-f84c221e5d21"
      },
      "outputs": [],
      "source": [
        "print(1 in (0,2,4,6,8,10))\n",
        "print(2 in (0,2,4,6,8,10))"
      ]
    },
    {
      "cell_type": "markdown",
      "metadata": {
        "id": "bW8Rvt73DtF2"
      },
      "source": [
        "## Laboratório 9"
      ]
    },
    {
      "cell_type": "markdown",
      "metadata": {
        "id": "v2piGgNvDu62"
      },
      "source": [
        "**1) qual o retorno da operação: 5 é maior do que 2, 2 é menor do que 3 e 4 é menor do que 12?**"
      ]
    },
    {
      "cell_type": "code",
      "execution_count": null,
      "metadata": {
        "colab": {
          "base_uri": "https://localhost:8080/"
        },
        "id": "cN7UzkjGDyKI",
        "outputId": "83861819-7126-4d2a-dfc9-e102deea69ba"
      },
      "outputs": [],
      "source": [
        "print((5 > 2) or (2 < 3) and (4 < 12))"
      ]
    },
    {
      "cell_type": "markdown",
      "metadata": {
        "id": "TNeI8BSgDyZx"
      },
      "source": [
        "**2) O que acontece se trocarmos o último and por \"or\". Verifique e explique se o resultado da expressão muda**"
      ]
    },
    {
      "cell_type": "code",
      "execution_count": null,
      "metadata": {
        "colab": {
          "base_uri": "https://localhost:8080/"
        },
        "id": "_8tLQ_O9D0Sg",
        "outputId": "4f65e361-cd74-45ca-ef75-b422ba176ce0"
      },
      "outputs": [],
      "source": [
        "print((5 > 2) or (2 < 3) or (4 < 12))"
      ]
    },
    {
      "cell_type": "markdown",
      "metadata": {
        "id": "sHReC7RHGcpU"
      },
      "source": [
        "## Laboratório 10"
      ]
    },
    {
      "cell_type": "markdown",
      "metadata": {
        "id": "wFHnqNSDGYro"
      },
      "source": [
        "**1) Crie um programa que irá receber uma variável e irá fornecer uma saída. Imprima impar se a variável for impar e par se a variável for par.**"
      ]
    },
    {
      "cell_type": "code",
      "execution_count": null,
      "metadata": {
        "colab": {
          "base_uri": "https://localhost:8080/"
        },
        "id": "a66AduRGGXUl",
        "outputId": "e22be130-abd1-4cc8-da68-29699b1560ac"
      },
      "outputs": [],
      "source": [
        "x = float(input(\"Insira um valor numérico: \"))\n",
        "if x % 2 == 0:\n",
        "  print(\"É par!\")\n",
        "else:\n",
        "  print(\"É ímpar!\")"
      ]
    }
  ],
  "metadata": {
    "colab": {
      "name": "Labs python.ipynb",
      "provenance": []
    },
    "interpreter": {
      "hash": "89e9a93276cf74b10d8777fa46d582e048e4e0920b86b21e056ea759c711dd3c"
    },
    "kernelspec": {
      "display_name": "Python 3.8.8 64-bit ('base': conda)",
      "name": "python3"
    },
    "language_info": {
      "codemirror_mode": {
        "name": "ipython",
        "version": 3
      },
      "file_extension": ".py",
      "mimetype": "text/x-python",
      "name": "python",
      "nbconvert_exporter": "python",
      "pygments_lexer": "ipython3",
      "version": "3.8.8"
    }
  },
  "nbformat": 4,
  "nbformat_minor": 0
}
